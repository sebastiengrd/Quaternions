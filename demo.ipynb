{
 "cells": [
  {
   "cell_type": "code",
   "execution_count": 77,
   "metadata": {},
   "outputs": [],
   "source": [
    "\n",
    "import Quaternion_helper\n",
    "import importlib\n",
    "importlib.reload(Quaternion_helper)\n",
    "from Quaternion_helper import Quaternion\n"
   ]
  },
  {
   "cell_type": "markdown",
   "metadata": {},
   "source": [
    "# What is a Quaternion\n",
    "\n",
    "A quaternion is compose of one real number and 3 imaginary numbers\n",
    "\n",
    "We can onften see it in this form :\n",
    "\n",
    "``` a + bi + cj + dk ``` \n",
    "\n",
    "Where \n",
    " - i j and k are the imaginary numers and \n",
    " - a b c d are the coefficients (a is the real number).\n",
    "\n",
    "\n",
    "We can define a quaternion with the library with ``` Quaternion(a, b, c, d) ``` \n",
    "\n",
    "For example :\n",
    "\n"
   ]
  },
  {
   "cell_type": "code",
   "execution_count": 82,
   "metadata": {},
   "outputs": [
    {
     "name": "stdout",
     "output_type": "stream",
     "text": [
      "(3 + 5i + 20j + 3k)\n"
     ]
    }
   ],
   "source": [
    "importlib.reload(Quaternion_helper)\n",
    "from Quaternion_helper import Quaternion\n",
    "\n",
    "\n",
    "myQuaternion = Quaternion(3, 5, 20, 3)\n",
    "print(myQuaternion)\n"
   ]
  },
  {
   "cell_type": "markdown",
   "metadata": {},
   "source": [
    "# Add and Substract Two Quaternion\n",
    "\n",
    "It is possible to add and substract two quaternions.\n",
    "\n",
    "Let 2 quaternions w and x\n",
    "\n",
    " - ``` w = a + bi + cj + dk ```\n",
    " - ``` x = e + fi + gj + hk ```\n",
    "\n",
    "Then, \n",
    "\n",
    "- ``` w + x = (a + bi + cj + dk) + (e + fi + gj + hk) ```\n",
    "- ``` w + x = = (a+e) + (b+f)i + (c+g)j + (d+h)k ```\n",
    "\n",
    "\n",
    "The same thing applies to the substraction\n",
    "\n",
    "For example:\n"
   ]
  },
  {
   "cell_type": "code",
   "execution_count": 83,
   "metadata": {},
   "outputs": [
    {
     "name": "stdout",
     "output_type": "stream",
     "text": [
      "(16 + 27i + 38j + 49k)\n",
      "(4 + 13i + 22j + 31k)\n"
     ]
    }
   ],
   "source": [
    "importlib.reload(Quaternion_helper)\n",
    "from Quaternion_helper import Quaternion\n",
    "\n",
    "w = Quaternion(10, 20, 30, 40)\n",
    "x = Quaternion(6, 7, 8, 9)\n",
    "y = w + x\n",
    "z = w - x\n",
    "\n",
    "print(y)\n",
    "print(z)"
   ]
  },
  {
   "cell_type": "markdown",
   "metadata": {},
   "source": [
    "# Representation of a 3D Point With Quaternions\n",
    "\n",
    "A 3d point can be represented with the imaginary part of a quaternion. The real part is 0\n",
    "\n",
    "For example, the point (5, 3, 10) in the 3d space could be represented by 0 + 5i + 3j + 10k\n",
    "\n",
    "Fuerthermore, the same operators can be applied to this 3d point\n",
    "\n",
    "Code example:"
   ]
  },
  {
   "cell_type": "code",
   "execution_count": 86,
   "metadata": {},
   "outputs": [
    {
     "ename": "TypeError",
     "evalue": "can only concatenate str (not \"Point3D\") to str",
     "output_type": "error",
     "traceback": [
      "\u001b[1;31m---------------------------------------------------------------------------\u001b[0m",
      "\u001b[1;31mTypeError\u001b[0m                                 Traceback (most recent call last)",
      "\u001b[1;32m<ipython-input-86-23f96f0130ec>\u001b[0m in \u001b[0;36m<module>\u001b[1;34m\u001b[0m\n\u001b[0;32m      8\u001b[0m \u001b[1;33m\u001b[0m\u001b[0m\n\u001b[0;32m      9\u001b[0m \u001b[1;33m\u001b[0m\u001b[0m\n\u001b[1;32m---> 10\u001b[1;33m \u001b[0mprint\u001b[0m\u001b[1;33m(\u001b[0m\u001b[1;34m\"Point 1: \"\u001b[0m \u001b[1;33m+\u001b[0m \u001b[0mmyPoint1\u001b[0m\u001b[1;33m)\u001b[0m\u001b[1;33m\u001b[0m\u001b[1;33m\u001b[0m\u001b[0m\n\u001b[0m\u001b[0;32m     11\u001b[0m \u001b[0mprint\u001b[0m\u001b[1;33m(\u001b[0m\u001b[1;34m\"Point 2: \"\u001b[0m \u001b[1;33m+\u001b[0m \u001b[0mmyPoint2\u001b[0m\u001b[1;33m)\u001b[0m\u001b[1;33m\u001b[0m\u001b[1;33m\u001b[0m\u001b[0m\n\u001b[0;32m     12\u001b[0m \u001b[0mprint\u001b[0m\u001b[1;33m(\u001b[0m\u001b[1;34m\"Point 1 + Point 2 : \"\u001b[0m \u001b[1;33m+\u001b[0m \u001b[0mmyPoint3\u001b[0m\u001b[1;33m)\u001b[0m\u001b[1;33m\u001b[0m\u001b[1;33m\u001b[0m\u001b[0m\n",
      "\u001b[1;31mTypeError\u001b[0m: can only concatenate str (not \"Point3D\") to str"
     ]
    }
   ],
   "source": [
    "importlib.reload(Quaternion_helper)\n",
    "from Quaternion_helper import Quaternion, Point3D\n",
    "\n",
    "myPoint1 = Point3D(-5, 10, 30)\n",
    "myPoint2 = Point3D(6, 40, -50)\n",
    "myPoint3 = myPoint1 + myPoint2\n",
    "myPoint4 = myPoint1 - myPoint2\n",
    "\n",
    "\n",
    "print(f\"Point 1: {myPoint1}\")\n",
    "print(f\"Point 2: {myPoint2}\")\n",
    "print(f\"Point 1 + Point 2 : {myPoint3}\")\n",
    "print(f\"Point 1 - Point 2 : {myPoint4}\")"
   ]
  }
 ],
 "metadata": {
  "interpreter": {
   "hash": "ac59ebe37160ed0dfa835113d9b8498d9f09ceb179beaac4002f036b9467c963"
  },
  "kernelspec": {
   "display_name": "Python 3.9.0 64-bit",
   "name": "python3"
  },
  "language_info": {
   "codemirror_mode": {
    "name": "ipython",
    "version": 3
   },
   "file_extension": ".py",
   "mimetype": "text/x-python",
   "name": "python",
   "nbconvert_exporter": "python",
   "pygments_lexer": "ipython3",
   "version": "3.9.0"
  },
  "orig_nbformat": 4
 },
 "nbformat": 4,
 "nbformat_minor": 2
}
